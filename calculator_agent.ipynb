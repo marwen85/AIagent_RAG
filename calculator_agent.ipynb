{
 "cells": [
  {
   "cell_type": "code",
   "execution_count": 2,
   "metadata": {},
   "outputs": [],
   "source": [
    "from langgraph.graph import MessagesState, StateGraph, END, START\n",
    "from langchain_core.messages import HumanMessage, SystemMessage\n",
    "from langchain_community.tools import DuckDuckGoSearchRun\n",
    "from langgraph.prebuilt import tools_condition\n",
    "from langgraph.prebuilt import ToolNode\n",
    "from IPython.display import Image, display\n",
    "from typing import Annotated, TypedDict\n",
    "import operator \n",
    "from langchain_core.messages import AnyMessage\n",
    "from langgraph.graph.message import add_messages\n",
    "from langchain_groq import ChatGroq\n"
   ]
  },
  {
   "cell_type": "code",
   "execution_count": 18,
   "metadata": {},
   "outputs": [],
   "source": [
    "llm = ChatGroq(model_name= \"Gemma2-9b-It\")"
   ]
  },
  {
   "cell_type": "code",
   "execution_count": 48,
   "metadata": {},
   "outputs": [],
   "source": [
    "def multiply(a:int, b:int) -> int:\n",
    "    \"\"\"This tool multiply two integers.\n",
    "\n",
    "\n",
    "     Args:\n",
    "       a : The first integer.\n",
    "       b : The second integer.\n",
    "\n",
    "    Returns:\n",
    "        int: The multiply of a and b.\n",
    "        \"\"\"\n",
    "\n",
    "    return a * b\n",
    "\n",
    "       \n",
    "   "
   ]
  },
  {
   "cell_type": "code",
   "execution_count": 49,
   "metadata": {},
   "outputs": [],
   "source": [
    "def add(a:int, b:int) -> int:\n",
    "    \"\"\"    This tool adds two integers.\n",
    "\n",
    "\n",
    "     Args:\n",
    "       a : The first integer.\n",
    "       b : The second integer.\n",
    "\n",
    "    Returns:\n",
    "        int: The sum of a and b.\n",
    "    \"\"\"\n",
    "\n",
    "    return a + b"
   ]
  },
  {
   "cell_type": "code",
   "execution_count": 50,
   "metadata": {},
   "outputs": [],
   "source": [
    "\n",
    "def divide(a:int, b:int) -> float:\n",
    "    \"\"\"this tool divide two integers.\n",
    "\n",
    "    Args:\n",
    "       a: The first integer.\n",
    "       b: The second integer.\n",
    "\n",
    "    Returns:\n",
    "        int: The division of a and b.\n",
    "    \"\"\"\n",
    "\n",
    "    return a / b"
   ]
  },
  {
   "cell_type": "code",
   "execution_count": 42,
   "metadata": {},
   "outputs": [],
   "source": [
    "search = DuckDuckGoSearchRun()"
   ]
  },
  {
   "cell_type": "code",
   "execution_count": 10,
   "metadata": {},
   "outputs": [
    {
     "data": {
      "text/plain": [
       "\"The president of the United States is the head of state and head of government, elected indirectly by the Electoral College. The current president is Joe Biden, who took office in 2021, and the president-elect is Donald Trump, who will take office in 2025. Donald Trump was elected the 47th president of the United States on Wednesday, fulfilling his promise to shatter America's political status quo after he refused to accept his loss to Joe Biden ... Learn about Joe Biden, the 46th president of the United States (2021-25) and the 47th vice president (2009-17) in the Democratic administration of Barack Obama. Find out his early life, career, policies, and achievements in the White House. Since 1789 and the election of George Washington, America's first president, 45 individuals have served as the chief executive of the United States (Grover Cleveland was elected for two nonconsecutive terms, so he served as the 22nd and 24th president). The president of the United States is the: U.S. head of state; Chief executive of the federal government; Commander-in-Chief of the armed forces; Current president. The 46th and current president of the United States is Joseph R. Biden, Jr. He was sworn into office on January 20, 2021. Former U.S. presidents. The United States has had 45 former ...\""
      ]
     },
     "execution_count": 10,
     "metadata": {},
     "output_type": "execute_result"
    }
   ],
   "source": [
    "search.invoke(\"who is the president of the united state of america\")"
   ]
  },
  {
   "cell_type": "code",
   "execution_count": 51,
   "metadata": {},
   "outputs": [],
   "source": [
    "tools = [add, multiply, divide, search]"
   ]
  },
  {
   "cell_type": "code",
   "execution_count": 52,
   "metadata": {},
   "outputs": [],
   "source": [
    "llm_with_tools = llm.bind_tools(tools)"
   ]
  },
  {
   "cell_type": "code",
   "execution_count": 53,
   "metadata": {},
   "outputs": [],
   "source": [
    "sys_msg = SystemMessage(content= \"You are a helpjul assistant tasked with using search and performing arithmetic on a set of inputs\")"
   ]
  },
  {
   "cell_type": "code",
   "execution_count": 54,
   "metadata": {},
   "outputs": [],
   "source": [
    "def reasoner(state: MessagesState):\n",
    "    return {\"messages\":[llm_with_tools.invoke([sys_msg ]+ state[\"messages\"])]}"
   ]
  },
  {
   "cell_type": "code",
   "execution_count": 55,
   "metadata": {},
   "outputs": [],
   "source": [
    "builder  = StateGraph(MessagesState)\n",
    "\n",
    "builder.add_node(\"reasoner\", reasoner)\n",
    "\n",
    "builder.add_node(\"tools\", ToolNode(tools))\n",
    "\n",
    "builder.add_edge(START, \"reasoner\")\n",
    "builder.add_conditional_edges(\n",
    "    \"reasoner\",\n",
    "    tools_condition\n",
    "    \n",
    ")\n",
    "builder.add_edge(\"tools\", \"reasoner\")\n",
    "react_graph = builder.compile()"
   ]
  },
  {
   "cell_type": "code",
   "execution_count": 56,
   "metadata": {},
   "outputs": [
    {
     "data": {
      "image/png": "[encoded data removed]",
      "text/plain": [
       "<IPython.core.display.Image object>"
      ]
     },
     "metadata": {},
     "output_type": "display_data"
    }
   ],
   "source": [
    "display(Image(react_graph.get_graph(xray=True).draw_mermaid_png()))"
   ]
  },
  {
   "cell_type": "code",
   "execution_count": 65,
   "metadata": {},
   "outputs": [],
   "source": [
    "messages = [HumanMessage(content=\"what is 2 times of Messi's age?\")]\n",
    "messages = react_graph.invoke({\"messages\": messages})"
   ]
  },
  {
   "cell_type": "code",
   "execution_count": 66,
   "metadata": {},
   "outputs": [
    {
     "name": "stdout",
     "output_type": "stream",
     "text": [
      "================================\u001b[1m Human Message \u001b[0m=================================\n",
      "\n",
      "what is 2 times of Messi's age?\n",
      "==================================\u001b[1m Ai Message \u001b[0m==================================\n",
      "Tool Calls:\n",
      "  duckduckgo_search (call_bx31)\n",
      " Call ID: call_bx31\n",
      "  Args:\n",
      "    query: Lionel Messi age\n",
      "=================================\u001b[1m Tool Message \u001b[0m=================================\n",
      "Name: duckduckgo_search\n",
      "\n",
      "Lionel Messi is an Argentine football prodigy with mesmerizing skills and record-breaking achievements who has captivated fans worldwide as one of the greatest players in history. ... At age 13 Messi and his family relocated to Barcelona, and he began playing for FC Barcelona's under-14 team. He scored 21 goals in 14 games for the junior team ... Lionel Messi is one of the world's best soccer players and helped Argentina win the 2022 FIFA World Cup. Read about his teams, awards, wife, height, and more. ... At age 13, Messi signed with FC ... Age, they say, is just a number - an adage that appears to ring true for soccer star Lionel Messi.. In an interview with the Big Time Podcast released on Wednesday, the 36-year-old Messi ... Messi, 37, joined Miami as a free agent in July 2023. \"I've changed my style of play because of the moment, the situation and my age,\" he told Fabrizio Romano for the 433 app. \"I am adapting a ... At the age of 13, Messi's family along with him shifted to Barcelona where the club assisted him in treating his growth hormone deficiency. The Argentinean began his career with FC Barcelona's U14 ...\n",
      "==================================\u001b[1m Ai Message \u001b[0m==================================\n",
      "Tool Calls:\n",
      "  multiply (call_gzj0)\n",
      " Call ID: call_gzj0\n",
      "  Args:\n",
      "    a: 36\n",
      "    b: 2\n",
      "=================================\u001b[1m Tool Message \u001b[0m=================================\n",
      "Name: multiply\n",
      "\n",
      "72\n",
      "==================================\u001b[1m Ai Message \u001b[0m==================================\n",
      "\n",
      "What is 2 times of Messi's age? 72\n"
     ]
    }
   ],
   "source": [
    "for m in messages['messages']:\n",
    "    m.pretty_print()"
   ]
  },
  {
   "cell_type": "code",
   "execution_count": 69,
   "metadata": {},
   "outputs": [],
   "source": [
    "messages = [HumanMessage(content=\"add Messi's age to the height of the eiffle tower\")]\n",
    "messages = react_graph.invoke({\"messages\": messages})"
   ]
  },
  {
   "cell_type": "code",
   "execution_count": 70,
   "metadata": {},
   "outputs": [
    {
     "name": "stdout",
     "output_type": "stream",
     "text": [
      "================================\u001b[1m Human Message \u001b[0m=================================\n",
      "\n",
      "add Messi's age to the height of the eiffle tower\n",
      "==================================\u001b[1m Ai Message \u001b[0m==================================\n",
      "Tool Calls:\n",
      "  duckduckgo_search (call_mhz4)\n",
      " Call ID: call_mhz4\n",
      "  Args:\n",
      "    query: Lionel Messi age\n",
      "=================================\u001b[1m Tool Message \u001b[0m=================================\n",
      "Name: duckduckgo_search\n",
      "\n",
      "Lionel Messi is an Argentine football prodigy with mesmerizing skills and record-breaking achievements who has captivated fans worldwide as one of the greatest players in history. ... At age 13 Messi and his family relocated to Barcelona, and he began playing for FC Barcelona's under-14 team. He scored 21 goals in 14 games for the junior team ... Lionel Messi is one of the world's best soccer players and helped Argentina win the 2022 FIFA World Cup. Read about his teams, awards, wife, height, and more. ... At age 13, Messi signed with FC ... Age, they say, is just a number - an adage that appears to ring true for soccer star Lionel Messi.. In an interview with the Big Time Podcast released on Wednesday, the 36-year-old Messi ... Messi, 37, joined Miami as a free agent in July 2023. \"I've changed my style of play because of the moment, the situation and my age,\" he told Fabrizio Romano for the 433 app. \"I am adapting a ... At the age of 13, Messi's family along with him shifted to Barcelona where the club assisted him in treating his growth hormone deficiency. The Argentinean began his career with FC Barcelona's U14 ...\n",
      "==================================\u001b[1m Ai Message \u001b[0m==================================\n",
      "Tool Calls:\n",
      "  duckduckgo_search (call_1jts)\n",
      " Call ID: call_1jts\n",
      "  Args:\n",
      "    query: height of the eiffel tower\n",
      "=================================\u001b[1m Tool Message \u001b[0m=================================\n",
      "Name: duckduckgo_search\n",
      "\n",
      "The Eiffel Tower (/ ˈ aɪ f əl / ⓘ EYE-fəl; French: Tour Eiffel [tuʁ ɛfɛl] ⓘ) is a wrought-iron lattice tower on the Champ de Mars in Paris, France.It is named after the engineer Gustave Eiffel, whose company designed and built the tower from 1887 to 1889.. Locally nicknamed \"La dame de fer\" (French for \"Iron Lady\"), it was constructed as the centerpiece of the 1889 World's Fair, and ... Eiffel Tower, wrought-iron structure in Paris that is one of the most famous landmarks in the world. It is also a technological masterpiece in building-construction history. It was designed and built (1887-89) by Gustave Eiffel and named in his honor. ... An observation deck is located just under the antenna, at a height of 276 meters (906 feet). Eiffel Tower: 330 m (1,080 ft) [4] 1889: Lattice Tower ... Tower Pinnacle height Year Country City Remarks Sapporo TV Tower: 147.2 m 1957 Since Paris is such a low-slung city (there was a building height limit of about 115 feet, or 35 meters, in place until the 1960s), the Eiffel Tower can be spotted from almost anywhere in the ... The Eiffel Tower Height. The Eiffel Tower measures approximately 324 meters (1,063 feet) from the ground to the tip of its original structure. However, with the addition of broadcasting antennas at the top of the tower, the total Eiffel Tower height has been brought to about 324 meters (1,063 feet). This addition ensures the Eiffel Tower remains a significant presence in the Paris skyline ...\n",
      "==================================\u001b[1m Ai Message \u001b[0m==================================\n",
      "Tool Calls:\n",
      "  add (call_8kg7)\n",
      " Call ID: call_8kg7\n",
      "  Args:\n",
      "    a: 330\n",
      "    b: 37\n",
      "=================================\u001b[1m Tool Message \u001b[0m=================================\n",
      "Name: add\n",
      "\n",
      "367\n",
      "==================================\u001b[1m Ai Message \u001b[0m==================================\n",
      "\n",
      "367\n"
     ]
    }
   ],
   "source": [
    "for m in messages['messages']:\n",
    "    m.pretty_print()"
   ]
  }
 ],
 "metadata": {
  "kernelspec": {
   "display_name": "Python 3",
   "language": "python",
   "name": "python3"
  },
  "language_info": {
   "codemirror_mode": {
    "name": "ipython",
    "version": 3
   },
   "file_extension": ".py",
   "mimetype": "text/x-python",
   "name": "python",
   "nbconvert_exporter": "python",
   "pygments_lexer": "ipython3",
   "version": "3.10.15"
  }
 },
 "nbformat": 4,
 "nbformat_minor": 2
}
