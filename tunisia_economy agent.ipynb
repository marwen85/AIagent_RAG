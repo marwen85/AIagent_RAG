{
 "cells": [
  {
   "cell_type": "code",
   "execution_count": 89,
   "metadata": {},
   "outputs": [
    {
     "data": {
      "text/plain": [
       "True"
      ]
     },
     "execution_count": 89,
     "metadata": {},
     "output_type": "execute_result"
    }
   ],
   "source": [
    "from langchain_core.output_parsers import StrOutputParser\n",
    "from langchain.output_parsers import PydanticOutputParser\n",
    "from langchain_core.prompts import ChatPromptTemplate\n",
    "from langchain_core.runnables import RunnablePassthrough\n",
    "from langchain_community.document_loaders import TextLoader, DirectoryLoader\n",
    "from langchain_community.vectorstores import Chroma\n",
    "from langchain.text_splitter import RecursiveCharacterTextSplitter\n",
    "from langchain_google_genai import GoogleGenerativeAIEmbeddings\n",
    "from langchain_google_genai import ChatGoogleGenerativeAI\n",
    "from langchain_core.messages import BaseMessage\n",
    "from langchain.prompts import PromptTemplate\n",
    "from langgraph.graph import StateGraph, END\n",
    "from typing import TypedDict, Annotated, Sequence\n",
    "import operator\n",
    "from pydantic import BaseModel, Field\n",
    "from IPython.display import Image, display\n",
    "\n",
    "\n",
    "import os\n",
    "from dotenv import load_dotenv\n",
    "load_dotenv()"
   ]
  },
  {
   "cell_type": "code",
   "execution_count": 90,
   "metadata": {},
   "outputs": [],
   "source": [
    "tavily_api_key = os.getenv(\"tavily_api_key\")\n",
    "groq_api_key = os.getenv(\"groq_api_key\")\n",
    "langchain_api_key = os.getenv(\"langchain_api_key\")\n",
    "langchain_project = os.getenv(\"langchain_project\")\n",
    "serper_api_key = os.getenv(\"serper_api_key\")\n",
    "google_api_key = os.getenv(\"google_api_key\")"
   ]
  },
  {
   "cell_type": "code",
   "execution_count": 91,
   "metadata": {},
   "outputs": [],
   "source": [
    "os.environ[\"tavily_api_key\"] = tavily_api_key\n",
    "os.environ[\"groq_api_key\"] = groq_api_key \n",
    "os.environ[\"langchain_api_key\"] = langchain_api_key\n",
    "os.environ[\"LANGCHAIN_TRACING_V2\"] = \"true\"\n",
    "os.environ[\"langchain_endpoint\"] = \"https://api.smith.langchain.com\"\n",
    "os.environ[\"tavily_api_key\"] = tavily_api_key\n",
    "os.environ[\"google_api_key\"] = google_api_key"
   ]
  },
  {
   "cell_type": "code",
   "execution_count": 92,
   "metadata": {},
   "outputs": [],
   "source": [
    "embeddings = GoogleGenerativeAIEmbeddings(model= \"models/embedding-001\")\n",
    "llm = ChatGoogleGenerativeAI(model=\"gemini-1.0-pro\")"
   ]
  },
  {
   "cell_type": "code",
   "execution_count": 93,
   "metadata": {},
   "outputs": [],
   "source": [
    "loader = DirectoryLoader(\"ReAct_agent_from_scratch\\data2\", glob='*.txt', loader_cls=TextLoader)\n",
    "docs = loader.load()\n",
    "text_splitter = RecursiveCharacterTextSplitter(\n",
    "    chunk_size= 100,\n",
    "    chunk_overlap = 50\n",
    ")\n",
    "new_docs = text_splitter.split_documents(documents= docs)\n",
    "doc_strings = [doc.page_content for doc in new_docs]"
   ]
  },
  {
   "cell_type": "code",
   "execution_count": 94,
   "metadata": {},
   "outputs": [],
   "source": [
    "db = Chroma.from_documents(new_docs, embeddings)\n",
    "retriever = db.as_retriever(search_kwargs= {\"k\":3})"
   ]
  },
  {
   "cell_type": "code",
   "execution_count": 95,
   "metadata": {},
   "outputs": [],
   "source": [
    "class AgentState(TypedDict):\n",
    "    # the message field should be a sequence of strings, and we annotate it with 'operator.add'\n",
    "    # this implies we might want to \"add\" new messages to the sequence later\n",
    "    messages: Annotated[Sequence[BaseMessage], operator.add]"
   ]
  },
  {
   "cell_type": "code",
   "execution_count": 96,
   "metadata": {},
   "outputs": [],
   "source": [
    "class TopicSelectionParser(BaseModel):\n",
    "    Topic: str = Field(description='Selected Topic')\n",
    "    Reasoning: str = Field(description= 'Reasoning behind topic selection' )"
   ]
  },
  {
   "cell_type": "code",
   "execution_count": 97,
   "metadata": {},
   "outputs": [],
   "source": [
    "parser = PydanticOutputParser(pydantic_object= TopicSelectionParser)"
   ]
  },
  {
   "cell_type": "code",
   "execution_count": 98,
   "metadata": {},
   "outputs": [],
   "source": [
    "def function_1(state):\n",
    "    messages = state[\"messages\"]\n",
    "    question = messages[-1]\n",
    "    \n",
    "    template =\"\"\"\n",
    "    Your task is to classify the given user query into one of the following categories: [Tunisia, Not Related].\n",
    "    Only respond with the category name and nothing else.\n",
    "    \n",
    "    user query: {question}\n",
    "    {format_instructions}\n",
    "    \"\"\"\n",
    "    \n",
    "    prompt = PromptTemplate(\n",
    "        template= template,\n",
    "        input_variables=[\"question\", \"format_instructions\"]\n",
    "\n",
    "    )\n",
    "    chain = prompt | llm | parser\n",
    "    response = chain.invoke({\"question\": question, \"format_instructions\": parser.get_format_instructions()})\n",
    "    print (response)\n",
    "    return {\"messages\": [response.Topic]}"
   ]
  },
  {
   "cell_type": "code",
   "execution_count": 99,
   "metadata": {},
   "outputs": [],
   "source": [
    "def router(state):\n",
    "    print('->Router->')\n",
    "    \n",
    "    messages = state[\"messages\"]\n",
    "    last_message = messages[-1]\n",
    "    print(last_message)\n",
    "    if 'Tunisia' in last_message:\n",
    "        return 'Rag call'\n",
    "    else:\n",
    "        return 'LLM call'"
   ]
  },
  {
   "cell_type": "markdown",
   "metadata": {},
   "source": []
  },
  {
   "cell_type": "code",
   "execution_count": 100,
   "metadata": {},
   "outputs": [],
   "source": [
    "def function_2(state):\n",
    "    print('-> Calling RAG ->')\n",
    "    messages = state['messages']\n",
    "    question = messages[0]\n",
    "    print(question)\n",
    "    \n",
    "    template = \"\"\"Answer the question based only on the following context:\n",
    "    {context}\n",
    "    Question: {question}\n",
    "    \"\"\"\n",
    "    prompt = ChatPromptTemplate.from_template(template)\n",
    "    print(prompt)\n",
    "    \n",
    "    retrieval_chain = (\n",
    "        {\"context\": retriever, \"question\": RunnablePassthrough()}\n",
    "        | prompt\n",
    "        | llm\n",
    "        |StrOutputParser()\n",
    "    )\n",
    "    result = retrieval_chain.invoke(question)\n",
    "    return {\"messages\": [result]}\n",
    "    "
   ]
  },
  {
   "cell_type": "code",
   "execution_count": 101,
   "metadata": {},
   "outputs": [],
   "source": [
    "def function_3(state):\n",
    "    print('-> Calling LLM ->')\n",
    "    \n",
    "    messages = state['messages']\n",
    "    question = messages[0]\n",
    "    \n",
    "    #Normal LLM call\n",
    "    \n",
    "    complete_query = \"Answer the follow question with your knowledge of the real world. Following is the user question: \" + question\n",
    "    response = llm.invoke(complete_query)\n",
    "    return {\"messages\": [response.content]}"
   ]
  },
  {
   "cell_type": "code",
   "execution_count": 102,
   "metadata": {},
   "outputs": [],
   "source": [
    "workflow5 = StateGraph(AgentState)\n",
    "\n",
    "workflow5.add_node(\"agent\", function_1)\n",
    "workflow5.add_node(\"RAG\", function_2)\n",
    "workflow5.add_node(\"LLM\" , function_3)\n",
    "\n",
    "workflow5.set_entry_point(\"agent\")\n",
    "workflow5.add_conditional_edges(\n",
    "    \"agent\",\n",
    "    router,\n",
    "    {\n",
    "    \"Rag call\": \"RAG\",\n",
    "    \"LLM call\": \"LLM\"\n",
    "    }\n",
    ")\n",
    "workflow5.add_edge(\"RAG\", END)\n",
    "workflow5.add_edge(\"LLM\", END)\n",
    "app5 = workflow5.compile()"
   ]
  },
  {
   "cell_type": "code",
   "execution_count": 103,
   "metadata": {},
   "outputs": [
    {
     "data": {
      "image/png": "[encoded data removed]",
      "text/plain": [
       "<IPython.core.display.Image object>"
      ]
     },
     "metadata": {},
     "output_type": "display_data"
    }
   ],
   "source": [
    "try:\n",
    "    display(Image(app5.get_graph().draw_mermaid_png()))\n",
    "except:\n",
    "    print(e)"
   ]
  },
  {
   "cell_type": "code",
   "execution_count": 116,
   "metadata": {},
   "outputs": [],
   "source": [
    "inputs = {\"messages\": [\" tell me about the tunisian economic growth\"]}"
   ]
  },
  {
   "cell_type": "code",
   "execution_count": 117,
   "metadata": {},
   "outputs": [
    {
     "name": "stdout",
     "output_type": "stream",
     "text": [
      "Topic='Tunisia' Reasoning='The query mentions the Tunisian economy, which is related to Tunisia.'\n",
      "->Router->\n",
      "Tunisia\n",
      "-> Calling RAG ->\n",
      " tell me about the tunisian economic growth\n",
      "input_variables=['context', 'question'] input_types={} partial_variables={} messages=[HumanMessagePromptTemplate(prompt=PromptTemplate(input_variables=['context', 'question'], input_types={}, partial_variables={}, template='Answer the question based only on the following context:\\n    {context}\\n    Question: {question}\\n    '), additional_kwargs={})]\n"
     ]
    }
   ],
   "source": [
    "output = app5.invoke(inputs)"
   ]
  },
  {
   "cell_type": "code",
   "execution_count": 118,
   "metadata": {},
   "outputs": [
    {
     "data": {
      "text/plain": [
       "{'messages': [' tell me about the tunisian economic growth',\n",
       "  'Tunisia',\n",
       "  'The provided text does not contain information about the Tunisian economic growth.']}"
      ]
     },
     "execution_count": 118,
     "metadata": {},
     "output_type": "execute_result"
    }
   ],
   "source": [
    "output"
   ]
  },
  {
   "cell_type": "code",
   "execution_count": 119,
   "metadata": {},
   "outputs": [],
   "source": [
    "inputs_2 = {\"messages\": [\"tell me about the american ecnomic growth\"]}"
   ]
  },
  {
   "cell_type": "code",
   "execution_count": 120,
   "metadata": {},
   "outputs": [
    {
     "name": "stdout",
     "output_type": "stream",
     "text": [
      "Topic='Not Related' Reasoning='The user query is about the American economic growth, which is not related to Tunisia.'\n",
      "->Router->\n",
      "Not Related\n",
      "-> Calling LLM ->\n"
     ]
    }
   ],
   "source": [
    "output = app5.invoke(inputs_2)"
   ]
  },
  {
   "cell_type": "code",
   "execution_count": 121,
   "metadata": {},
   "outputs": [
    {
     "data": {
      "text/plain": [
       "{'messages': ['tell me about the american ecnomic growth',\n",
       "  'Not Related',\n",
       "  '**American Economic Growth**\\n\\n**Historical Context:**\\n\\n* The United States has experienced periods of rapid economic growth throughout its history.\\n* The Industrial Revolution in the 19th century led to the expansion of manufacturing and transportation, fueling significant growth.\\n* In the 20th century, the Great Depression and World War II had a profound impact on the economy, but the post-war period saw a period of sustained economic expansion known as the \"Golden Age of Capitalism.\"\\n\\n**Key Factors Contributing to Economic Growth:**\\n\\n* **Innovation and Technology:** The United States has historically been a leader in innovation and technological advancements, driving economic progress.\\n* **Natural Resources:** The country\\'s vast natural resources, including land, minerals, and energy, have contributed to its economic development.\\n* **Entrepreneurship and Free Markets:** A strong entrepreneurial spirit and a free market economy have fostered business creation and growth.\\n* **Education and Human Capital:** A highly educated workforce and a robust education system have played a significant role in economic growth.\\n* **Government Policies:** Government policies, such as infrastructure investment, tax incentives, and trade agreements, have supported economic growth.\\n\\n**Recent Trends:**\\n\\n* **Technological Revolution:** The digital revolution and the rise of the internet have transformed the economy, creating new industries and sectors.\\n* **Global Integration:** Globalization has increased interdependence among countries, leading to both opportunities and challenges for American economic growth.\\n* **Income Inequality:** While the economy has grown overall, income inequality has also risen, creating a divide between different segments of society.\\n\\n**Current Challenges:**\\n\\n* **Inflation:** Rising inflation has eroded purchasing power and increased the cost of living.\\n* **Labor Shortages:** A tight labor market has made it difficult for businesses to find qualified workers.\\n* **Supply Chain Disruptions:** Global supply chain disruptions caused by the COVID-19 pandemic and geopolitical tensions have impacted economic activity.\\n* **Climate Change:** Climate change poses both risks and opportunities for economic growth, requiring adaptation and investment in sustainable solutions.\\n\\n**Outlook:**\\n\\nThe future of American economic growth remains uncertain, but the country has a long history of innovation, resilience, and adaptation. By addressing current challenges and investing in areas such as education, infrastructure, and clean energy, the United States can continue to foster economic growth and prosperity.']}"
      ]
     },
     "execution_count": 121,
     "metadata": {},
     "output_type": "execute_result"
    }
   ],
   "source": [
    "output"
   ]
  },
  {
   "cell_type": "code",
   "execution_count": 122,
   "metadata": {},
   "outputs": [],
   "source": [
    "inputs_3 = {\"messages\": [\"where was carthage located\"]}"
   ]
  },
  {
   "cell_type": "code",
   "execution_count": 123,
   "metadata": {},
   "outputs": [
    {
     "name": "stdout",
     "output_type": "stream",
     "text": [
      "Topic='Tunisia' Reasoning='The user query is about the location of Carthage, which is in Tunisia.'\n",
      "->Router->\n",
      "Tunisia\n",
      "-> Calling RAG ->\n",
      "where was carthage located\n",
      "input_variables=['context', 'question'] input_types={} partial_variables={} messages=[HumanMessagePromptTemplate(prompt=PromptTemplate(input_variables=['context', 'question'], input_types={}, partial_variables={}, template='Answer the question based only on the following context:\\n    {context}\\n    Question: {question}\\n    '), additional_kwargs={})]\n"
     ]
    }
   ],
   "source": [
    "output = app5.invoke(inputs_3)"
   ]
  },
  {
   "cell_type": "code",
   "execution_count": 124,
   "metadata": {},
   "outputs": [
    {
     "data": {
      "text/plain": [
       "{'messages': ['where was carthage located',\n",
       "  'Tunisia',\n",
       "  'The provided context does not mention the location of Carthage, so I cannot answer this question from the provided context.']}"
      ]
     },
     "execution_count": 124,
     "metadata": {},
     "output_type": "execute_result"
    }
   ],
   "source": [
    "output"
   ]
  }
 ],
 "metadata": {
  "kernelspec": {
   "display_name": "Python 3",
   "language": "python",
   "name": "python3"
  },
  "language_info": {
   "codemirror_mode": {
    "name": "ipython",
    "version": 3
   },
   "file_extension": ".py",
   "mimetype": "text/x-python",
   "name": "python",
   "nbconvert_exporter": "python",
   "pygments_lexer": "ipython3",
   "version": "3.10.15"
  }
 },
 "nbformat": 4,
 "nbformat_minor": 2
}
